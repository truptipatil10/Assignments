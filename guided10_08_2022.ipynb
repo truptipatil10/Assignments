{
  "nbformat": 4,
  "nbformat_minor": 0,
  "metadata": {
    "colab": {
      "name": "guided10-08-2022.ipynb",
      "provenance": []
    },
    "kernelspec": {
      "name": "python3",
      "display_name": "Python 3"
    },
    "language_info": {
      "name": "python"
    }
  },
  "cells": [
    {
      "cell_type": "code",
      "execution_count": 1,
      "metadata": {
        "colab": {
          "base_uri": "https://localhost:8080/"
        },
        "id": "CuNCVPWbvB29",
        "outputId": "c69d7343-54df-46a1-cace-9d9ee45caad7"
      },
      "outputs": [
        {
          "name": "stdout",
          "output_type": "stream",
          "text": [
            "enter a number20\n"
          ]
        },
        {
          "output_type": "execute_result",
          "data": {
            "text/plain": [
              "array([[15, 19,  9,  5,  3, 10,  8,  2,  8, 14,  2,  5, 17,  9,  2,  3,\n",
              "         8,  2,  2, 11]])"
            ]
          },
          "metadata": {},
          "execution_count": 1
        }
      ],
      "source": [
        "#TRUPTI  PATIL\n",
        "\n",
        "\n",
        "#1\n",
        "import numpy as np\n",
        "x = int(input(\"enter a number\"))\n",
        "\n",
        "y = np.random.randint(0,x,(1,20))\n",
        "y"
      ]
    },
    {
      "cell_type": "code",
      "source": [
        "#2\n",
        "arr = np.arange(300, 500, 10).reshape(4,5)\n",
        "print (arr)"
      ],
      "metadata": {
        "colab": {
          "base_uri": "https://localhost:8080/"
        },
        "id": "4qVp5i6Xx_cJ",
        "outputId": "f9f7df6a-2beb-423a-bbc7-18efa5edc947"
      },
      "execution_count": null,
      "outputs": [
        {
          "output_type": "stream",
          "name": "stdout",
          "text": [
            "[[300 310 320 330 340]\n",
            " [350 360 370 380 390]\n",
            " [400 410 420 430 440]\n",
            " [450 460 470 480 490]]\n"
          ]
        }
      ]
    },
    {
      "cell_type": "code",
      "source": [
        "#3\n",
        "import numpy as np\n",
        "matrix = np.random.randint(-1000,1000, (20,20))\n",
        "matrix"
      ],
      "metadata": {
        "colab": {
          "base_uri": "https://localhost:8080/"
        },
        "id": "4ryG6vBs5Br6",
        "outputId": "bc4477d2-7b45-45da-f2ba-b5c7bd50dc81"
      },
      "execution_count": null,
      "outputs": [
        {
          "output_type": "execute_result",
          "data": {
            "text/plain": [
              "array([[  -47,   -67,   -54,  -627,    53,  -368,  -979,  -911,   763,\n",
              "          377,   233,   969,   486,   344,  -395,   346,   195,    99,\n",
              "         -783,  -261],\n",
              "       [ -925,  -840,   761,    69,  -560,  -255,  -895,   383,   688,\n",
              "          757,   100,   121,   987,  -469, -1000,   200,  -212,   619,\n",
              "         -298,   -49],\n",
              "       [  386,  -777,   863,  -901,  -131,   817,   294,  -418,   -26,\n",
              "          795,   577,  -998,  -751,   996,  -280,   929,  -600,  -400,\n",
              "          498,   718],\n",
              "       [  -75,  -613,   350,   222,   891,   706,   541,   193,   192,\n",
              "          891,  -877,  -168,   -97,  -385,   351,  -167,    97,  -654,\n",
              "          -46,  -236],\n",
              "       [ -518,  -336,   880,   455,   474,  -792,   161,  -156,   516,\n",
              "         -208,  -445,   379,  -577,  -200,     2,  -498,  -389,   234,\n",
              "         -135,  -176],\n",
              "       [ -857,  -843,  -905,   901,   721,   221,  -392,  -915,  -484,\n",
              "         -228,  -435,   342,   174,   996,   101,    99,  -959,    39,\n",
              "          901,  -224],\n",
              "       [ -364,  -407,   103,    12,   164,   -99,     8,   804,  -857,\n",
              "         -365,   258,  -187,   634,  -362,  -439,   146,  -216,   682,\n",
              "         -743,  -905],\n",
              "       [ -934,  -820,   448,   721,   537,   325,   294,   154,   299,\n",
              "         -467,  -742,   834,  -202,   374,  -219,   574,   -98,  -631,\n",
              "         -334,    37],\n",
              "       [  -17,  -161,   282,   874,  -508,  -629,  -468,   846,   551,\n",
              "          776,   -50,   257,  -107,   621,    -6,  -148,    48,  -950,\n",
              "          918,  -127],\n",
              "       [ -682,  -509,   737,   630,   905,  -774,   942,  -559,   823,\n",
              "         -619,  -895,  -426,  -150,   976,    -1,    93,   849,   459,\n",
              "          690,   -69],\n",
              "       [  339,  -782,   170,  -733,   167,   862,  -542,  -823,    84,\n",
              "          854,   -98,   -64,    -7,   506,  -352,   924,  -881,   -23,\n",
              "         -251,    62],\n",
              "       [ -227,    75,   779,  -240,  -908,   287,   793,  -203,    73,\n",
              "          766,   755,  -351,  -245,  -959,  -492,  -118,  -307,   923,\n",
              "          966,    83],\n",
              "       [  230,  -179,  -728,  -351,  -446,  -685,   889,   476,   253,\n",
              "           48,   161,   581,   315,   378,   728,   410,    63,  -846,\n",
              "          622,   510],\n",
              "       [ -547,  -725,   -94,  -731,   290,   500,  -648,  -773,   911,\n",
              "          732,   710,   584,   769,  -189,   350,   113,  -473,   317,\n",
              "          644,  -585],\n",
              "       [ -766,    29,   381,  -599,  -517,   256,   709,   149,  -812,\n",
              "         -920,  -945,   621,   862,  -471,  -772,  -745,  -605,   507,\n",
              "         -537,   848],\n",
              "       [   -4,  -838,   397,   172,    45,  -699,  -108,  -772,   202,\n",
              "          450,   434,   904,  -479,  -549,   573,  -904,   335,    -5,\n",
              "         -512,  -517],\n",
              "       [ -859,  -387,   241,   720,   849,  -761,   377,  -340,   648,\n",
              "         -764,   206,   766,  -108,    56,  -851,   123,   400,  -386,\n",
              "         -496,   -17],\n",
              "       [  -33,  -760,   328,  -443,   567,   867,  -885,  -243,    79,\n",
              "          919,  -702,  -101,  -493,  -306,   694,  -897,  -144,  -928,\n",
              "         -531,   617],\n",
              "       [  342,    37,   -14,  -110,   -77,     7,   452,   285,   246,\n",
              "         -687,   238,   932,   130,   874,   699,  -110,  -229,   -57,\n",
              "         -325,   344],\n",
              "       [  578,   777,  -367,   202,   -82,   978,   896,  -223,   275,\n",
              "          364,   437,   435,  -923,  -371,   795,   224,  -874,   510,\n",
              "         -132,  -145]])"
            ]
          },
          "metadata": {},
          "execution_count": 7
        }
      ]
    },
    {
      "cell_type": "code",
      "source": [
        "np.max(matrix)"
      ],
      "metadata": {
        "colab": {
          "base_uri": "https://localhost:8080/"
        },
        "id": "0yu5UWTd5gG3",
        "outputId": "b8df404b-8005-435e-e542-03ca5b5481bc"
      },
      "execution_count": null,
      "outputs": [
        {
          "output_type": "execute_result",
          "data": {
            "text/plain": [
              "996"
            ]
          },
          "metadata": {},
          "execution_count": 8
        }
      ]
    },
    {
      "cell_type": "code",
      "source": [
        "np.min(matrix)"
      ],
      "metadata": {
        "colab": {
          "base_uri": "https://localhost:8080/"
        },
        "id": "F3iSo-I55jkS",
        "outputId": "bb2b2cb9-126d-4c95-8495-554bc6359b7d"
      },
      "execution_count": null,
      "outputs": [
        {
          "output_type": "execute_result",
          "data": {
            "text/plain": [
              "-1000"
            ]
          },
          "metadata": {},
          "execution_count": 9
        }
      ]
    },
    {
      "cell_type": "code",
      "source": [
        "np.mean(matrix)"
      ],
      "metadata": {
        "colab": {
          "base_uri": "https://localhost:8080/"
        },
        "id": "lf0oSU6s6tC_",
        "outputId": "e91c09fd-91c1-4cd2-9212-77ee433187de"
      },
      "execution_count": null,
      "outputs": [
        {
          "output_type": "execute_result",
          "data": {
            "text/plain": [
              "8.055"
            ]
          },
          "metadata": {},
          "execution_count": 10
        }
      ]
    },
    {
      "cell_type": "code",
      "source": [
        "\n"
      ],
      "metadata": {
        "id": "GwbxBGH7_FPO"
      },
      "execution_count": null,
      "outputs": []
    },
    {
      "cell_type": "code",
      "source": [
        ""
      ],
      "metadata": {
        "id": "PX1_fU_fBFXD"
      },
      "execution_count": null,
      "outputs": []
    },
    {
      "cell_type": "code",
      "source": [
        "#4\n",
        "arr1 = np.random.randint(-50,50,(5,5)) \n",
        "print (arr1)\n",
        "rows, columns = arr1.shape\n",
        "arr1[4:] = [-1]*columns\n",
        "print(arr1)\n",
        "for number in arr1[:-3,columns-2:]:\n",
        "    number *= 2\n",
        "print(arr1)"
      ],
      "metadata": {
        "colab": {
          "base_uri": "https://localhost:8080/"
        },
        "id": "4FMquuBeBg_N",
        "outputId": "91c6505c-84f0-45bb-b98a-c08189701ccc"
      },
      "execution_count": null,
      "outputs": [
        {
          "output_type": "stream",
          "name": "stdout",
          "text": [
            "[[ 40  31 -47 -46  48]\n",
            " [-27 -10 -22   4  35]\n",
            " [ 44 -32   4 -14   5]\n",
            " [ -1  17  39   6 -21]\n",
            " [ 26  41  18  19  38]]\n",
            "[[ 40  31 -47 -46  48]\n",
            " [-27 -10 -22   4  35]\n",
            " [ 44 -32   4 -14   5]\n",
            " [ -1  17  39   6 -21]\n",
            " [ -1  -1  -1  -1  -1]]\n",
            "[[ 40  31 -47 -92  96]\n",
            " [-27 -10 -22   8  70]\n",
            " [ 44 -32   4 -14   5]\n",
            " [ -1  17  39   6 -21]\n",
            " [ -1  -1  -1  -1  -1]]\n"
          ]
        }
      ]
    },
    {
      "cell_type": "code",
      "source": [
        "#5\n",
        "import numpy as np\n",
        "num = np.array([[2,30,20,-2,-4],[3,4,40,-3,-2], [-3, 4 ,-6, 90, 10] ,[25 ,45 ,34, 22 ,12], [13 ,24, 22 ,32, 37]])\n",
        "n = 0 \n",
        "r = 0\n",
        "\n",
        "\n",
        "print(np.where(num < n,r,num))\n",
        "\n",
        "print(np.where( num % 2 == 1,25,num))"
      ],
      "metadata": {
        "colab": {
          "base_uri": "https://localhost:8080/"
        },
        "id": "rnLKwQfZ4jvz",
        "outputId": "ecde3c1c-cbc7-4c71-9881-a9f14e58c207"
      },
      "execution_count": null,
      "outputs": [
        {
          "output_type": "stream",
          "name": "stdout",
          "text": [
            "[[ 2 30 20  0  0]\n",
            " [ 3  4 40  0  0]\n",
            " [ 0  4  0 90 10]\n",
            " [25 45 34 22 12]\n",
            " [13 24 22 32 37]]\n",
            "[[ 2 30 20 -2 -4]\n",
            " [25  4 40 25 -2]\n",
            " [25  4 -6 90 10]\n",
            " [25 25 34 22 12]\n",
            " [25 24 22 32 25]]\n"
          ]
        }
      ]
    },
    {
      "cell_type": "code",
      "source": [
        ""
      ],
      "metadata": {
        "id": "aojZXfiN9N_k"
      },
      "execution_count": null,
      "outputs": []
    }
  ]
}